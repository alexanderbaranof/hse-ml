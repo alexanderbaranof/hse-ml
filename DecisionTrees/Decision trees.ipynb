{
 "cells": [
  {
   "cell_type": "markdown",
   "id": "fb34e932-261e-4120-ba6d-15bf6273539f",
   "metadata": {},
   "source": [
    "# Imports"
   ]
  },
  {
   "cell_type": "code",
   "execution_count": 62,
   "id": "215e24ef-7490-4e5d-8d49-799ac281ce3e",
   "metadata": {},
   "outputs": [],
   "source": [
    "from functools import partial\n",
    "from collections import Counter\n",
    "\n",
    "import numpy as np\n",
    "import pandas as pd\n",
    "import matplotlib.pyplot as plt"
   ]
  },
  {
   "cell_type": "markdown",
   "id": "0b3ab4e8-04c1-463a-a131-fca0ad621549",
   "metadata": {},
   "source": [
    "# Task 1"
   ]
  },
  {
   "cell_type": "code",
   "execution_count": 4,
   "id": "67e7179e-fa74-4302-b870-ba704ddb5fab",
   "metadata": {},
   "outputs": [],
   "source": [
    "class Tree:\n",
    "    '''Create a binary tree; keyword-only arguments `data`, `left`, `right`.\n",
    "    Examples:\n",
    "    l1 = Tree.leaf(\"leaf1\")\n",
    "    l2 = Tree.leaf(\"leaf2\")\n",
    "    tree = Tree(data=\"root\", left=l1, right=Tree(right=l2))\n",
    "    '''\n",
    "\n",
    "    def leaf(data):\n",
    "        '''Create a leaf tree\n",
    "        '''\n",
    "        return Tree(data=data)\n",
    "\n",
    "    # pretty-print trees\n",
    "    def __repr__(self):\n",
    "        if self.is_leaf():\n",
    "            return \"Leaf(%r)\" % self.data\n",
    "        else:\n",
    "            return \"Tree(%r) { left = %r, right = %r }\" % (self.data, self.left, self.right)\n",
    "\n",
    "    # all arguments after `*` are *keyword-only*!\n",
    "    def __init__(self, *, data = None, left = None, right = None):\n",
    "        self.data = data\n",
    "        self.left = left\n",
    "        self.right = right\n",
    "\n",
    "    def is_leaf(self):\n",
    "        '''Check if this tree is a leaf tree\n",
    "        '''\n",
    "        return self.left == None and self.right == None\n",
    "\n",
    "    def children(self):\n",
    "        '''List of child subtrees\n",
    "        '''\n",
    "        return [x for x in [self.left, self.right] if x]\n",
    "\n",
    "    def depth(self):\n",
    "        '''Compute the depth of a tree\n",
    "        A leaf is depth-1, and a child is one deeper than the parent.\n",
    "        '''\n",
    "        return max([x.depth() for x in self.children()], default=0) + 1"
   ]
  },
  {
   "cell_type": "code",
   "execution_count": 5,
   "id": "090b7100-f64a-4b30-83a9-822b4a810c42",
   "metadata": {},
   "outputs": [
    {
     "name": "stdout",
     "output_type": "stream",
     "text": [
      "Tree('isSystems?') { left = Leaf('like'), right = Tree('takenOtherSys?') { left = Tree('morning?') { left = Leaf('like'), right = Leaf('nah') }, right = Tree('likedOtherSys?') { left = Leaf('nah'), right = Leaf('like') } } }\n"
     ]
    }
   ],
   "source": [
    "leaf_nah = Tree.leaf('nah')\n",
    "leaf_like = Tree.leaf('like')\n",
    "Tree1 = Tree(data = 'likedOtherSys?', left = leaf_nah, right = leaf_like)\n",
    "Tree2 = Tree(data = 'morning?', left = leaf_like, right = leaf_nah)\n",
    "Tree3 = Tree(data = 'takenOtherSys?', left = Tree2, right = Tree1)\n",
    "Tree4 = Tree(data = 'isSystems?', left = leaf_like, right = Tree3)\n",
    "print(Tree4)"
   ]
  },
  {
   "cell_type": "markdown",
   "id": "f1161454-47ce-4a7d-8425-f25d52c5a366",
   "metadata": {},
   "source": [
    "# Task 2"
   ]
  },
  {
   "cell_type": "code",
   "execution_count": 13,
   "id": "235db47e-4a33-42e6-ab8a-ffd3c8d0fbfd",
   "metadata": {},
   "outputs": [],
   "source": [
    "df = pd.read_csv('data.csv')\n",
    "df['ok'] = df['rating']>= 0 "
   ]
  },
  {
   "cell_type": "code",
   "execution_count": 14,
   "id": "3a93af15-3c2f-49bb-976c-2c4a010ef7d3",
   "metadata": {},
   "outputs": [
    {
     "data": {
      "text/html": [
       "<div>\n",
       "<style scoped>\n",
       "    .dataframe tbody tr th:only-of-type {\n",
       "        vertical-align: middle;\n",
       "    }\n",
       "\n",
       "    .dataframe tbody tr th {\n",
       "        vertical-align: top;\n",
       "    }\n",
       "\n",
       "    .dataframe thead th {\n",
       "        text-align: right;\n",
       "    }\n",
       "</style>\n",
       "<table border=\"1\" class=\"dataframe\">\n",
       "  <thead>\n",
       "    <tr style=\"text-align: right;\">\n",
       "      <th></th>\n",
       "      <th>rating</th>\n",
       "      <th>easy</th>\n",
       "      <th>ai</th>\n",
       "      <th>systems</th>\n",
       "      <th>theory</th>\n",
       "      <th>morning</th>\n",
       "      <th>ok</th>\n",
       "    </tr>\n",
       "  </thead>\n",
       "  <tbody>\n",
       "    <tr>\n",
       "      <th>0</th>\n",
       "      <td>2</td>\n",
       "      <td>True</td>\n",
       "      <td>True</td>\n",
       "      <td>False</td>\n",
       "      <td>True</td>\n",
       "      <td>False</td>\n",
       "      <td>True</td>\n",
       "    </tr>\n",
       "    <tr>\n",
       "      <th>1</th>\n",
       "      <td>2</td>\n",
       "      <td>True</td>\n",
       "      <td>True</td>\n",
       "      <td>False</td>\n",
       "      <td>True</td>\n",
       "      <td>False</td>\n",
       "      <td>True</td>\n",
       "    </tr>\n",
       "  </tbody>\n",
       "</table>\n",
       "</div>"
      ],
      "text/plain": [
       "   rating  easy    ai  systems  theory  morning    ok\n",
       "0       2  True  True    False    True    False  True\n",
       "1       2  True  True    False    True    False  True"
      ]
     },
     "execution_count": 14,
     "metadata": {},
     "output_type": "execute_result"
    }
   ],
   "source": [
    "df.head(2)"
   ]
  },
  {
   "cell_type": "markdown",
   "id": "3422ee24-7eb9-4bd9-95c6-709a5df37932",
   "metadata": {},
   "source": [
    "# Task 3"
   ]
  },
  {
   "cell_type": "code",
   "execution_count": 84,
   "id": "03226891-0122-459a-9260-d0c03c0ad70c",
   "metadata": {},
   "outputs": [],
   "source": [
    "def single_feature_score(data, goal, feature):\n",
    "    \n",
    "    true_items = data[data[feature] == True][goal]\n",
    "    false_items = data[data[feature] == False][goal]\n",
    "    \n",
    "    true_matching = 0\n",
    "    false_matching = 0\n",
    "    \n",
    "    if len(true_items) != 0:\n",
    "        true_most_common = Counter(true_items.tolist()).most_common(1)[0][0]\n",
    "        true_matching = true_items.value_counts()[true_most_common]        \n",
    "    \n",
    "    if len(false_items) != 0:\n",
    "        false_most_common = Counter(false_items.tolist()).most_common(1)[0][0]\n",
    "        false_matching = false_items.value_counts()[false_most_common]      \n",
    "    \n",
    "    return (true_matching + false_matching) / len(data)"
   ]
  },
  {
   "cell_type": "code",
   "execution_count": 85,
   "id": "4098df8c-b516-48db-9f1f-71cf7c633ccd",
   "metadata": {},
   "outputs": [],
   "source": [
    "def best_and_worst_feature(data, goal, features):\n",
    "    scorer = partial(single_feature_score, data, goal)\n",
    "    return max(features, key=scorer), min(features, key=scorer)"
   ]
  },
  {
   "cell_type": "code",
   "execution_count": 89,
   "id": "0abd2b54-0038-4a08-9233-8083012a9481",
   "metadata": {},
   "outputs": [
    {
     "name": "stdout",
     "output_type": "stream",
     "text": [
      "Best feature is systems with score 0.9\n",
      "Worst feature is systems with score 0.6\n"
     ]
    }
   ],
   "source": [
    "features = df.drop(['rating', 'ok'], axis=1).columns.tolist()\n",
    "b, w =  best_and_worst_feature(df, 'ok', features)\n",
    "b_score = single_feature_score(df, 'ok', b)\n",
    "w_score = single_feature_score(df, 'ok', w)\n",
    "print(f'Best feature is {bf} with score {b_score}')\n",
    "print(f'Worst feature is {bf} with score {w_score}')"
   ]
  },
  {
   "cell_type": "markdown",
   "id": "93496f8b-8ae7-4a91-9da9-03659b834c17",
   "metadata": {},
   "source": [
    "# Task 4"
   ]
  },
  {
   "cell_type": "code",
   "execution_count": 92,
   "id": "95d8aa3a-e412-4064-9c32-3b51d8829ed8",
   "metadata": {},
   "outputs": [
    {
     "data": {
      "text/plain": [
       "2"
      ]
     },
     "execution_count": 92,
     "metadata": {},
     "output_type": "execute_result"
    }
   ],
   "source": [
    "len(pd.unique([1, 2, 1]))"
   ]
  },
  {
   "cell_type": "code",
   "execution_count": 93,
   "id": "9c63add2-bd19-4a6e-898a-5299578b29a1",
   "metadata": {},
   "outputs": [],
   "source": [
    "def DecisionTreeTrain(data, goal, features):\n",
    "    \n",
    "    guess = Counter(data[goal].tolist()).most_common(1)[0][0]\n",
    "    \n",
    "    if len(features) == 0 or len(pd.unique(data[goal])) == 1:\n",
    "        return Tree.leaf(guess)\n",
    "    else:\n",
    "        b, _ = best_and_worst_feature(data, goal, features)\n",
    "        remaining_features = features.copy()\n",
    "        remaining_features.remove(b)        \n",
    "        true_items = data[data[b] == True]\n",
    "        false_items = data[data[b] == False]\n",
    "        \n",
    "        if len(true_items) != 0:\n",
    "            right = DecisionTreeTrain(true_items, goal, remaining_features)\n",
    "        else:\n",
    "            right = Tree.leaf(guess)\n",
    "        \n",
    "        if len(false_items) != 0:\n",
    "            left = DecisionTreeTrain(false_items, goal, remaining_features)\n",
    "        else:\n",
    "            left = Tree.leaf(guess)         \n",
    "        \n",
    "        return Tree(data=b, left=left, right=right)\n",
    "    \n",
    "def DecisionTreeTest(tree, data_point):\n",
    "    if tree.is_leaf():\n",
    "        return tree.data\n",
    "    else:\n",
    "        feature_name = tree.data\n",
    "        if not data_point[feature_name]:\n",
    "            return DecisionTreeTest(tree.left, data_point)\n",
    "        else:\n",
    "            return DecisionTreeTest(tree.right, data_point)"
   ]
  },
  {
   "cell_type": "code",
   "execution_count": 94,
   "id": "98a8741f-54fc-4d34-a32a-255ecd015799",
   "metadata": {},
   "outputs": [
    {
     "name": "stdout",
     "output_type": "stream",
     "text": [
      "Tree('systems') { left = Leaf(True), right = Tree('easy') { left = Tree('ai') { left = Leaf(False), right = Tree('theory') { left = Tree('morning') { left = Leaf(True), right = Leaf(True) }, right = Leaf(True) } }, right = Tree('theory') { left = Leaf(False), right = Leaf(True) } } }\n"
     ]
    }
   ],
   "source": [
    "tree = DecisionTreeTrain(df, 'ok', features)\n",
    "print(tree)"
   ]
  },
  {
   "cell_type": "markdown",
   "id": "d4d0844d-34af-469e-9fc8-d263949e7132",
   "metadata": {},
   "source": [
    "# Task 5"
   ]
  },
  {
   "cell_type": "code",
   "execution_count": 95,
   "id": "af197e9f-396f-4079-a7c3-72f75d81598b",
   "metadata": {},
   "outputs": [],
   "source": [
    "def DecisionTreeTrainWithMaxDepth(data, goal, features, max_depth):\n",
    "    \n",
    "    guess = Counter(data[goal].tolist()).most_common(1)[0][0]\n",
    "    \n",
    "    if len(features) == 0 or len(pd.unique(data[goal])) == 1 or max_depth == 0:\n",
    "        return Tree.leaf(guess)\n",
    "    else:\n",
    "        b, _ = best_and_worst_feature(data, goal, features)\n",
    "        remaining_features = features.copy()\n",
    "        remaining_features.remove(b)        \n",
    "        true_items = data[data[b] == True]\n",
    "        false_items = data[data[b] == False]\n",
    "        \n",
    "        if len(true_items) != 0:\n",
    "            right = DecisionTreeTrainWithMaxDepth(true_items, goal, remaining_features, max_depth-1)\n",
    "        else:\n",
    "            right = Tree.leaf(guess)\n",
    "        \n",
    "        if len(false_items) != 0:\n",
    "            left = DecisionTreeTrainWithMaxDepth(false_items, goal, remaining_features, max_depth-1)\n",
    "        else:\n",
    "            left = Tree.leaf(guess)         \n",
    "        \n",
    "        return Tree(data=b, left=left, right=right)"
   ]
  },
  {
   "cell_type": "code",
   "execution_count": 97,
   "id": "a7879051-d223-4b23-b3dd-5dd2ce1f7368",
   "metadata": {},
   "outputs": [
    {
     "name": "stdout",
     "output_type": "stream",
     "text": [
      "Tree('systems') { left = Leaf(True), right = Tree('easy') { left = Tree('ai') { left = Leaf(False), right = Leaf(True) }, right = Tree('theory') { left = Leaf(False), right = Leaf(True) } } }\n"
     ]
    }
   ],
   "source": [
    "tree2 = DecisionTreeTrainWithMaxDepth(df, 'ok', features, max_depth=3)\n",
    "print(tree2)"
   ]
  },
  {
   "cell_type": "markdown",
   "id": "cbc46bf0-676e-4bb6-b89f-c1c53903bee6",
   "metadata": {},
   "source": [
    "# Perfomance"
   ]
  },
  {
   "cell_type": "code",
   "execution_count": 102,
   "id": "b4e6c6a1-8e70-4710-a9be-e29eca07b347",
   "metadata": {},
   "outputs": [],
   "source": [
    "def calc_accuracy(tree, goal, data):\n",
    "    data = data.to_dict(orient='records')\n",
    "    \n",
    "    y_pred = [DecisionTreeTest(tree, point) for point in data]\n",
    "    y_true = [point[goal] for point in data]    \n",
    "    \n",
    "    N = len(y_pred)\n",
    "    y_pred = np.array(y_pred)\n",
    "    y_true = np.array(y_true)\n",
    "    \n",
    "    return (y_true == y_pred).sum() / N\n",
    "\n",
    "max_depths = [i for i in range(10)]\n",
    "scores = list()\n",
    "for i in max_depths:\n",
    "    tree = DecisionTreeTrainWithMaxDepth(df, 'ok', features, max_depth=i)\n",
    "    scores.append(calc_accuracy(tree, 'ok', df))"
   ]
  },
  {
   "cell_type": "code",
   "execution_count": 105,
   "id": "c478d488-5d24-4bb6-b360-73f802c5bd80",
   "metadata": {},
   "outputs": [
    {
     "data": {
      "image/png": "[encoded data removed]",
      "text/plain": [
       "<Figure size 432x288 with 1 Axes>"
      ]
     },
     "metadata": {
      "needs_background": "light"
     },
     "output_type": "display_data"
    }
   ],
   "source": [
    "plt.grid(True)\n",
    "plt.xlabel('MaxDepth')\n",
    "plt.ylabel('Accuracy')\n",
    "plt.title('Explore trees')\n",
    "plt.plot(max_depths, scores)\n",
    "plt.savefig('plot.png')"
   ]
  },
  {
   "cell_type": "code",
   "execution_count": null,
   "id": "e141e527-df09-47ef-8057-d2c9d000ad07",
   "metadata": {},
   "outputs": [],
   "source": []
  }
 ],
 "metadata": {
  "kernelspec": {
   "display_name": "Python 3",
   "language": "python",
   "name": "python3"
  },
  "language_info": {
   "codemirror_mode": {
    "name": "ipython",
    "version": 3
   },
   "file_extension": ".py",
   "mimetype": "text/x-python",
   "name": "python",
   "nbconvert_exporter": "python",
   "pygments_lexer": "ipython3",
   "version": "3.7.10"
  }
 },
 "nbformat": 4,
 "nbformat_minor": 5
}
