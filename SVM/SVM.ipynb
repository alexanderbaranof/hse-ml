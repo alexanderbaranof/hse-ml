{
 "cells": [
  {
   "cell_type": "markdown",
   "id": "statutory-amount",
   "metadata": {},
   "source": [
    "# Ex 1"
   ]
  },
  {
   "cell_type": "code",
   "execution_count": 1,
   "id": "senior-fishing",
   "metadata": {},
   "outputs": [],
   "source": [
    "import scipy.optimize, numpy.random\n",
    "\n",
    "def f(x):\n",
    "    return x**2\n",
    "\n",
    "def df(x):\n",
    "    return 2*x"
   ]
  },
  {
   "cell_type": "code",
   "execution_count": 2,
   "id": "killing-freight",
   "metadata": {},
   "outputs": [
    {
     "name": "stdout",
     "output_type": "stream",
     "text": [
      "CPU times: user 2 µs, sys: 0 ns, total: 2 µs\n",
      "Wall time: 5.96 µs\n",
      "      fun: 8.077935669463161e-28\n",
      " hess_inv: array([[0.5]])\n",
      "      jac: array([5.68434189e-14])\n",
      "  message: 'Optimization terminated successfully.'\n",
      "     nfev: 7\n",
      "      nit: 3\n",
      "     njev: 7\n",
      "   status: 0\n",
      "  success: True\n",
      "        x: array([2.84217094e-14])\n"
     ]
    }
   ],
   "source": [
    "%time\n",
    "print(scipy.optimize.minimize(f, numpy.random.randint(-1000, 1000), jac=df))"
   ]
  },
  {
   "cell_type": "code",
   "execution_count": 3,
   "id": "minus-northeast",
   "metadata": {},
   "outputs": [
    {
     "name": "stdout",
     "output_type": "stream",
     "text": [
      "CPU times: user 2 µs, sys: 0 ns, total: 2 µs\n",
      "Wall time: 6.2 µs\n",
      "      fun: 5.43852184854248e-17\n",
      " hess_inv: array([[0.49999992]])\n",
      "      jac: array([1.51894299e-10])\n",
      "  message: 'Optimization terminated successfully.'\n",
      "     nfev: 16\n",
      "      nit: 4\n",
      "     njev: 8\n",
      "   status: 0\n",
      "  success: True\n",
      "        x: array([-7.37463345e-09])\n"
     ]
    }
   ],
   "source": [
    "%time\n",
    "print(scipy.optimize.minimize(f, numpy.random.randint(-1000, 1000), jac=False))"
   ]
  },
  {
   "cell_type": "markdown",
   "id": "brazilian-determination",
   "metadata": {},
   "source": [
    "## Answer Ex 1"
   ]
  },
  {
   "cell_type": "markdown",
   "id": "inappropriate-blues",
   "metadata": {},
   "source": [
    "The variant specified with jac works faster and handles the task in fewer steps"
   ]
  },
  {
   "cell_type": "markdown",
   "id": "metropolitan-optimum",
   "metadata": {},
   "source": [
    "# Ex 2"
   ]
  },
  {
   "cell_type": "code",
   "execution_count": 4,
   "id": "alien-subdivision",
   "metadata": {},
   "outputs": [],
   "source": [
    "import numpy as np"
   ]
  },
  {
   "cell_type": "code",
   "execution_count": 5,
   "id": "worthy-tobago",
   "metadata": {},
   "outputs": [],
   "source": [
    "def hinge_loss_surrogate(y_gold, y_pred):\n",
    "    return max(0, 1 - y_gold * y_pred)"
   ]
  },
  {
   "cell_type": "code",
   "execution_count": 6,
   "id": "brown-penetration",
   "metadata": {},
   "outputs": [],
   "source": [
    "def svm_loss(w, b, C, D):\n",
    "    loss = 0\n",
    "    for row in D:        \n",
    "        loss += hinge_loss_surrogate(row[1], np.dot(w, row[0]) + b)    \n",
    "    return 0.5 * np.dot(w, w) + C * loss"
   ]
  },
  {
   "cell_type": "markdown",
   "id": "covered-morrison",
   "metadata": {},
   "source": [
    "# Ex 3"
   ]
  },
  {
   "cell_type": "code",
   "execution_count": 16,
   "id": "convinced-license",
   "metadata": {},
   "outputs": [],
   "source": [
    "def svm(D, C=1):\n",
    "    w = np.zeros(len(D[0][0]))\n",
    "    b = np.array([0])\n",
    "    svm_loss_with_params = lambda w_b: svm_loss(w=w_b[:-1], b=w_b[-1], C=C, D=D)\n",
    "    svm_result = scipy.optimize.minimize(svm_loss_with_params,\n",
    "                                         x0 = np.concatenate([w, b]),\n",
    "                                         jac=False).x\n",
    "    w, b = svm_result[:-1], svm_result[-1]\n",
    "    return w, b    "
   ]
  },
  {
   "cell_type": "markdown",
   "id": "helpful-instrument",
   "metadata": {},
   "source": [
    "# Ex 4"
   ]
  },
  {
   "cell_type": "code",
   "execution_count": 8,
   "id": "challenging-lincoln",
   "metadata": {},
   "outputs": [],
   "source": [
    "def gradient_hinge_loss_surrogate(y_gold, y_pred):\n",
    "    if hinge_loss_surrogate(y_gold, y_pred) == 0:\n",
    "        return 0\n",
    "    else:\n",
    "        return -y_gold\n",
    "\n",
    "\n",
    "def gradient_svm_loss(w, b, C, D):\n",
    "    d_w = w + C*sum([row[0]*gradient_hinge_loss_surrogate(row[1], numpy.dot(row[0], w) + b) for row in D])\n",
    "    d_b = C*sum([gradient_hinge_loss_surrogate(row[1], numpy.dot(row[0], w) + b) for row in D])\n",
    "    return [*d_w, d_b]\n",
    "\n",
    "def svm(D, C=1, use_gradient=False):\n",
    "    w = np.zeros(len(D[0][0]))\n",
    "    b = np.array([0])\n",
    "    \n",
    "    svm_loss_with_params = lambda w_b: svm_loss(w=w_b[:-1], b=w_b[-1], C=C, D=D)\n",
    "    \n",
    "    if use_gradient:\n",
    "        gradient_svm_loss_with_params = lambda w_b: gradient_svm_loss(w=w_b[:-1], b=w_b[-1], C=C, D=D)\n",
    "        svm_result = scipy.optimize.minimize(svm_loss_with_params,\n",
    "                                             x0 = np.concatenate([w, b]),\n",
    "                                             jac=gradient_svm_loss_with_params).x\n",
    "    else:\n",
    "        svm_result = scipy.optimize.minimize(svm_loss_with_params,\n",
    "                                             x0 = np.concatenate([w, b]),\n",
    "                                             jac=False).x\n",
    "    \n",
    "    w, b = svm_result[:-1], svm_result[-1]\n",
    "    return w, b"
   ]
  },
  {
   "cell_type": "markdown",
   "id": "accredited-commission",
   "metadata": {},
   "source": [
    "# Ex 5"
   ]
  },
  {
   "cell_type": "code",
   "execution_count": 9,
   "id": "marine-green",
   "metadata": {},
   "outputs": [],
   "source": [
    "import matplotlib.pyplot as plt"
   ]
  },
  {
   "cell_type": "code",
   "execution_count": 10,
   "id": "forced-basis",
   "metadata": {},
   "outputs": [
    {
     "data": {
      "text/plain": [
       "<matplotlib.collections.PathCollection at 0x1031218d0>"
      ]
     },
     "execution_count": 10,
     "metadata": {},
     "output_type": "execute_result"
    },
    {
     "data": {
      "image/png": "[encoded data removed]",
      "text/plain": [
       "<Figure size 432x288 with 1 Axes>"
      ]
     },
     "metadata": {
      "needs_background": "light"
     },
     "output_type": "display_data"
    }
   ],
   "source": [
    "x_plus = numpy.random.normal(loc=[-1,-1], scale=0.5, size=(20,2))\n",
    "x_minus = numpy.random.normal(loc=[1,1], scale=0.5, size=(20,2))\n",
    "\n",
    "plt.scatter(\n",
    "    x_plus[:,0], x_plus[:,1],\n",
    "    marker='+',\n",
    "    color='blue'\n",
    ")\n",
    "plt.scatter(\n",
    "    x_minus[:,0], x_minus[:,1],\n",
    "    marker='x',\n",
    "    color='red'\n",
    ")"
   ]
  },
  {
   "cell_type": "code",
   "execution_count": 11,
   "id": "everyday-campbell",
   "metadata": {},
   "outputs": [],
   "source": [
    "D = list()\n",
    "\n",
    "for x in x_plus:\n",
    "    D.append((x, 1))\n",
    "    \n",
    "for x in x_minus:\n",
    "    D.append((x, -1))"
   ]
  },
  {
   "cell_type": "code",
   "execution_count": 12,
   "id": "painted-discussion",
   "metadata": {},
   "outputs": [],
   "source": [
    "def AveragedPerceptronTrain(D, maxiter = 1000):\n",
    "    w = np.zeros(len(D[0][0]))\n",
    "    b = np.zeros(1)\n",
    "    u = np.zeros(len(D[0][0]))\n",
    "    beta = 0\n",
    "    c = 1\n",
    "    for i in range(maxiter):\n",
    "        for x, y in D:\n",
    "            a = np.dot(x, w) + b\n",
    "            if np.sign(y * a) <= 0: \n",
    "                w += y * x\n",
    "                b += y\n",
    "                u += y * c * x\n",
    "                beta += y * c\n",
    "            c += 1\n",
    "    return w - (1/c) * u, b - beta * (1/c)"
   ]
  },
  {
   "cell_type": "code",
   "execution_count": 13,
   "id": "sized-swimming",
   "metadata": {},
   "outputs": [],
   "source": [
    "perc_weights, perc_bias = AveragedPerceptronTrain(D)\n",
    "svm_weights_false, svm_bias_false = svm(D, use_gradient=False)\n",
    "svm_weights_true, svm_bias_true = svm(D, use_gradient=True)"
   ]
  },
  {
   "cell_type": "code",
   "execution_count": 14,
   "id": "ecological-administrator",
   "metadata": {},
   "outputs": [],
   "source": [
    "def get_hyperplane(w, b):\n",
    "    a = -w[0] / w[1]\n",
    "    xx = np.linspace(-2.5, 2.5)\n",
    "    yy = a * xx - (b) / w[1]\n",
    "    return xx, yy"
   ]
  },
  {
   "cell_type": "code",
   "execution_count": 15,
   "id": "traditional-snowboard",
   "metadata": {},
   "outputs": [
    {
     "data": {
      "image/png": "[encoded data removed]",
      "text/plain": [
       "<Figure size 432x288 with 1 Axes>"
      ]
     },
     "metadata": {
      "needs_background": "light"
     },
     "output_type": "display_data"
    }
   ],
   "source": [
    "plt.plot(*get_hyperplane(perc_weights, perc_bias), label='Averaged Perceptron')\n",
    "plt.plot(*get_hyperplane(svm_weights_false, svm_bias_false), label='SVM no grad')\n",
    "plt.plot(*get_hyperplane(svm_weights_true, svm_bias_true), label='SVM with grad')\n",
    "plt.scatter(\n",
    "    x_plus[:,0], x_plus[:,1],\n",
    "    marker='+',\n",
    "    color='blue'\n",
    ")\n",
    "plt.scatter(\n",
    "    x_minus[:,0], x_minus[:,1],\n",
    "    marker='x',\n",
    "    color='red'\n",
    ")\n",
    "plt.legend()\n",
    "plt.savefig(\"svm-svm-perceptron.pdf\")"
   ]
  },
  {
   "cell_type": "markdown",
   "id": "caroline-mountain",
   "metadata": {},
   "source": [
    "You can see that the Perceptron does a better job, but both versions of the SVM are very similar"
   ]
  },
  {
   "cell_type": "code",
   "execution_count": null,
   "id": "noted-process",
   "metadata": {},
   "outputs": [],
   "source": []
  },
  {
   "cell_type": "code",
   "execution_count": null,
   "id": "owned-gender",
   "metadata": {},
   "outputs": [],
   "source": []
  }
 ],
 "metadata": {
  "kernelspec": {
   "display_name": "Python 3",
   "language": "python",
   "name": "python3"
  },
  "language_info": {
   "codemirror_mode": {
    "name": "ipython",
    "version": 3
   },
   "file_extension": ".py",
   "mimetype": "text/x-python",
   "name": "python",
   "nbconvert_exporter": "python",
   "pygments_lexer": "ipython3",
   "version": "3.7.10"
  }
 },
 "nbformat": 4,
 "nbformat_minor": 5
}
